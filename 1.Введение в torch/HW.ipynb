{
  "nbformat": 4,
  "nbformat_minor": 0,
  "metadata": {
    "kernelspec": {
      "display_name": "Python 3",
      "language": "python",
      "name": "python3"
    },
    "language_info": {
      "codemirror_mode": {
        "name": "ipython",
        "version": 3
      },
      "file_extension": ".py",
      "mimetype": "text/x-python",
      "name": "python",
      "nbconvert_exporter": "python",
      "pygments_lexer": "ipython3",
      "version": "3.7.4"
    },
    "colab": {
      "name": "HW.ipynb",
      "provenance": []
    },
    "accelerator": "GPU"
  },
  "cells": [
    {
      "cell_type": "code",
      "metadata": {
        "colab": {
          "base_uri": "https://localhost:8080/"
        },
        "id": "uK32HN85-RjI",
        "outputId": "65d40f3c-78c6-46c7-d11f-295d1306bbce"
      },
      "source": [
        "!nvidia-smi"
      ],
      "execution_count": 2,
      "outputs": [
        {
          "output_type": "stream",
          "name": "stdout",
          "text": [
            "Thu Nov 25 12:01:50 2021       \n",
            "+-----------------------------------------------------------------------------+\n",
            "| NVIDIA-SMI 495.44       Driver Version: 460.32.03    CUDA Version: 11.2     |\n",
            "|-------------------------------+----------------------+----------------------+\n",
            "| GPU  Name        Persistence-M| Bus-Id        Disp.A | Volatile Uncorr. ECC |\n",
            "| Fan  Temp  Perf  Pwr:Usage/Cap|         Memory-Usage | GPU-Util  Compute M. |\n",
            "|                               |                      |               MIG M. |\n",
            "|===============================+======================+======================|\n",
            "|   0  Tesla P100-PCIE...  Off  | 00000000:00:04.0 Off |                    0 |\n",
            "| N/A   35C    P0    27W / 250W |      0MiB / 16280MiB |      0%      Default |\n",
            "|                               |                      |                  N/A |\n",
            "+-------------------------------+----------------------+----------------------+\n",
            "                                                                               \n",
            "+-----------------------------------------------------------------------------+\n",
            "| Processes:                                                                  |\n",
            "|  GPU   GI   CI        PID   Type   Process name                  GPU Memory |\n",
            "|        ID   ID                                                   Usage      |\n",
            "|=============================================================================|\n",
            "|  No running processes found                                                 |\n",
            "+-----------------------------------------------------------------------------+\n"
          ]
        }
      ]
    },
    {
      "cell_type": "code",
      "metadata": {
        "id": "f4rXNnTX97Qz"
      },
      "source": [
        "import torch"
      ],
      "execution_count": 3,
      "outputs": []
    },
    {
      "cell_type": "code",
      "metadata": {
        "id": "QFNoeDa697Q3"
      },
      "source": [
        "# Создайте случайный FloatTensor размера 3x4x5\n",
        "\n",
        "tmp = torch.rand(3, 4, 5).type(torch.float32)"
      ],
      "execution_count": 4,
      "outputs": []
    },
    {
      "cell_type": "code",
      "metadata": {
        "colab": {
          "base_uri": "https://localhost:8080/"
        },
        "id": "nOs9_b_997Q4",
        "outputId": "00d23b7a-7a34-4687-f434-998ec63e5492"
      },
      "source": [
        "# Выведите его форму (shape)\n",
        "tmp.shape"
      ],
      "execution_count": 5,
      "outputs": [
        {
          "output_type": "execute_result",
          "data": {
            "text/plain": [
              "torch.Size([3, 4, 5])"
            ]
          },
          "metadata": {},
          "execution_count": 5
        }
      ]
    },
    {
      "cell_type": "code",
      "metadata": {
        "colab": {
          "base_uri": "https://localhost:8080/"
        },
        "id": "QHONc5_797Q5",
        "outputId": "8e46a577-c476-4a48-8376-c18f35053141"
      },
      "source": [
        "# Приведите его к форме 6 X 10\n",
        "tmp.view(6, 10)"
      ],
      "execution_count": 6,
      "outputs": [
        {
          "output_type": "execute_result",
          "data": {
            "text/plain": [
              "tensor([[0.2212, 0.0072, 0.8941, 0.2481, 0.5784, 0.4422, 0.5063, 0.1188, 0.3367,\n",
              "         0.6674],\n",
              "        [0.4818, 0.9115, 0.3568, 0.9282, 0.7558, 0.6373, 0.6123, 0.3889, 0.6802,\n",
              "         0.8848],\n",
              "        [0.5179, 0.4069, 0.9458, 0.8620, 0.6596, 0.9875, 0.9674, 0.4822, 0.4828,\n",
              "         0.9636],\n",
              "        [0.1058, 0.9038, 0.3997, 0.3788, 0.9744, 0.8902, 0.6983, 0.7708, 0.7519,\n",
              "         0.3332],\n",
              "        [0.0410, 0.9124, 0.3187, 0.0676, 0.4771, 0.9376, 0.6073, 0.2736, 0.5871,\n",
              "         0.9398],\n",
              "        [0.2830, 0.9753, 0.9960, 0.2637, 0.2366, 0.4041, 0.7133, 0.2134, 0.3772,\n",
              "         0.5397]])"
            ]
          },
          "metadata": {},
          "execution_count": 6
        }
      ]
    },
    {
      "cell_type": "code",
      "metadata": {
        "colab": {
          "base_uri": "https://localhost:8080/"
        },
        "id": "DT4_S4wQ97Q6",
        "outputId": "6549150c-88d1-4492-c88c-e5963cfc9449"
      },
      "source": [
        "# Умножьте его на вектор [1, 4, 2, 2, 1] поэлементно\n",
        "tmp * torch.DoubleTensor([1, 4, 2, 2, 1])"
      ],
      "execution_count": 7,
      "outputs": [
        {
          "output_type": "execute_result",
          "data": {
            "text/plain": [
              "tensor([[[0.2212, 0.0287, 1.7882, 0.4962, 0.5784],\n",
              "         [0.4422, 2.0252, 0.2376, 0.6733, 0.6674],\n",
              "         [0.4818, 3.6460, 0.7135, 1.8563, 0.7558],\n",
              "         [0.6373, 2.4492, 0.7778, 1.3603, 0.8848]],\n",
              "\n",
              "        [[0.5179, 1.6275, 1.8916, 1.7240, 0.6596],\n",
              "         [0.9875, 3.8695, 0.9645, 0.9655, 0.9636],\n",
              "         [0.1058, 3.6153, 0.7994, 0.7577, 0.9744],\n",
              "         [0.8902, 2.7932, 1.5417, 1.5039, 0.3332]],\n",
              "\n",
              "        [[0.0410, 3.6496, 0.6374, 0.1352, 0.4771],\n",
              "         [0.9376, 2.4292, 0.5472, 1.1742, 0.9398],\n",
              "         [0.2830, 3.9014, 1.9919, 0.5273, 0.2366],\n",
              "         [0.4041, 2.8531, 0.4267, 0.7544, 0.5397]]], dtype=torch.float64)"
            ]
          },
          "metadata": {},
          "execution_count": 7
        }
      ]
    },
    {
      "cell_type": "code",
      "metadata": {
        "colab": {
          "base_uri": "https://localhost:8080/"
        },
        "id": "kpcyISdf97Q6",
        "outputId": "1a88aa72-1925-4ca4-b884-5264657699f6"
      },
      "source": [
        "# Умножьте тензор матрично на себя, чтобы результат был размерности 6x6\n",
        "torch.matmul(tmp.view(6, 10), torch.transpose(tmp.view(6, 10), 1, 0))"
      ],
      "execution_count": 8,
      "outputs": [
        {
          "output_type": "execute_result",
          "data": {
            "text/plain": [
              "tensor([[2.2691, 2.5570, 3.3478, 2.3591, 2.1727, 2.2147],\n",
              "        [2.5570, 4.8008, 4.8467, 4.2065, 3.6952, 3.3156],\n",
              "        [3.3478, 4.8467, 5.8116, 4.3803, 3.9013, 3.7629],\n",
              "        [2.3591, 4.2065, 4.3803, 4.6316, 3.6712, 3.1258],\n",
              "        [2.1727, 3.6952, 3.9013, 3.6712, 3.7187, 2.9488],\n",
              "        [2.2147, 3.3156, 3.7629, 3.1258, 2.9488, 3.3000]])"
            ]
          },
          "metadata": {},
          "execution_count": 8
        }
      ]
    },
    {
      "cell_type": "code",
      "metadata": {
        "id": "RiKAYknO97Q7"
      },
      "source": [
        "# Посчитайте производную функции y = x**3 + z - 75t в точке (1, 0.5, 2)\n",
        "from torch.autograd import Variable\n",
        "\n",
        "x = Variable(torch.FloatTensor([1]), requires_grad = True)\n",
        "z = Variable(torch.FloatTensor([0.5]), requires_grad = True)\n",
        "t = Variable(torch.FloatTensor([2]), requires_grad = True)\n",
        "\n",
        "y = x**3 + z -75*t"
      ],
      "execution_count": 17,
      "outputs": []
    },
    {
      "cell_type": "code",
      "metadata": {
        "colab": {
          "base_uri": "https://localhost:8080/"
        },
        "id": "KPrgisUQAX4W",
        "outputId": "b16a2c3d-fd55-439a-876d-f10afcdaeb41"
      },
      "source": [
        "y"
      ],
      "execution_count": 18,
      "outputs": [
        {
          "output_type": "execute_result",
          "data": {
            "text/plain": [
              "tensor([-148.5000], grad_fn=<SubBackward0>)"
            ]
          },
          "metadata": {},
          "execution_count": 18
        }
      ]
    },
    {
      "cell_type": "code",
      "metadata": {
        "id": "MTt0l30F97Q7"
      },
      "source": [
        "y.backward([x, z, t])"
      ],
      "execution_count": 20,
      "outputs": []
    },
    {
      "cell_type": "code",
      "metadata": {
        "colab": {
          "base_uri": "https://localhost:8080/"
        },
        "id": "2mWDRcJq97Q8",
        "outputId": "24b92adf-af91-45c3-d72a-163b7a1e7b5d"
      },
      "source": [
        "x.grad"
      ],
      "execution_count": 21,
      "outputs": [
        {
          "output_type": "execute_result",
          "data": {
            "text/plain": [
              "tensor([3.])"
            ]
          },
          "metadata": {},
          "execution_count": 21
        }
      ]
    },
    {
      "cell_type": "code",
      "metadata": {
        "colab": {
          "base_uri": "https://localhost:8080/"
        },
        "id": "AkYPH05N97Q8",
        "outputId": "345e5100-38e0-4b4f-abed-ebeeea9fd133"
      },
      "source": [
        "z.grad"
      ],
      "execution_count": 22,
      "outputs": [
        {
          "output_type": "execute_result",
          "data": {
            "text/plain": [
              "tensor([1.])"
            ]
          },
          "metadata": {},
          "execution_count": 22
        }
      ]
    },
    {
      "cell_type": "code",
      "metadata": {
        "colab": {
          "base_uri": "https://localhost:8080/"
        },
        "id": "IiC0anR497Q8",
        "outputId": "0b22b968-137f-4b00-b66e-177f26184377"
      },
      "source": [
        "t.grad"
      ],
      "execution_count": 23,
      "outputs": [
        {
          "output_type": "execute_result",
          "data": {
            "text/plain": [
              "tensor([-75.])"
            ]
          },
          "metadata": {},
          "execution_count": 23
        }
      ]
    },
    {
      "cell_type": "code",
      "metadata": {
        "id": "JkAvMmNZ97Q9"
      },
      "source": [
        "# Создайте единичный тензор размера 5x6\n",
        "\n",
        "x = torch.ones((5, 6))"
      ],
      "execution_count": 27,
      "outputs": []
    },
    {
      "cell_type": "code",
      "metadata": {
        "colab": {
          "base_uri": "https://localhost:8080/"
        },
        "id": "V2xYNiHk97Q9",
        "outputId": "5dfe6261-c9e0-49cf-b4f5-8132eb93a161"
      },
      "source": [
        "# Переведите его в формат numpy\n",
        "\n",
        "type(x), type(x.numpy())"
      ],
      "execution_count": 29,
      "outputs": [
        {
          "output_type": "execute_result",
          "data": {
            "text/plain": [
              "(torch.Tensor, numpy.ndarray)"
            ]
          },
          "metadata": {},
          "execution_count": 29
        }
      ]
    },
    {
      "cell_type": "code",
      "metadata": {
        "id": "8DbAUvGX97Q-"
      },
      "source": [
        "# Давайте теперь пооптимизируем: возьмите функцию y = x**w1 - 2 * x**2 + 5"
      ],
      "execution_count": 31,
      "outputs": []
    },
    {
      "cell_type": "code",
      "metadata": {
        "id": "bxaVgDpR97Q-"
      },
      "source": [
        "x = torch.FloatTensor([1])\n",
        "w = Variable(torch.FloatTensor([1]), requires_grad=True)\n",
        "\n",
        "y = x ** w -2 * x**2 + 5"
      ],
      "execution_count": 32,
      "outputs": []
    },
    {
      "cell_type": "code",
      "metadata": {
        "id": "2G9-suOC97Q-"
      },
      "source": [
        "from torch import nn \n",
        "from torch import optim"
      ],
      "execution_count": 33,
      "outputs": []
    },
    {
      "cell_type": "code",
      "metadata": {
        "colab": {
          "base_uri": "https://localhost:8080/"
        },
        "id": "UqTyxk5vBCr-",
        "outputId": "2b23e3b2-90bf-4294-eae5-2cf3e44a3dd9"
      },
      "source": [
        "x, w, y"
      ],
      "execution_count": 35,
      "outputs": [
        {
          "output_type": "execute_result",
          "data": {
            "text/plain": [
              "(tensor([1.]),\n",
              " tensor([1.], requires_grad=True),\n",
              " tensor([4.], grad_fn=<AddBackward0>))"
            ]
          },
          "metadata": {},
          "execution_count": 35
        }
      ]
    },
    {
      "cell_type": "code",
      "metadata": {
        "id": "pTKYsHC597Q_"
      },
      "source": [
        "optimizer = optim.SGD([w], lr=0.01)\n",
        "criterion = nn.MSELoss()"
      ],
      "execution_count": 36,
      "outputs": []
    },
    {
      "cell_type": "code",
      "metadata": {
        "id": "DPe8dvCX97Q_"
      },
      "source": [
        "lin = nn.Linear(1, 1, bias=False)"
      ],
      "execution_count": 37,
      "outputs": []
    },
    {
      "cell_type": "code",
      "metadata": {
        "colab": {
          "base_uri": "https://localhost:8080/"
        },
        "id": "nbemU6ww97Q_",
        "outputId": "51190c84-4269-43a2-baf1-50afffd2a0ff"
      },
      "source": [
        "optimizer.zero_grad()\n",
        "x = torch.FloatTensor([100])\n",
        "\n",
        "pred = x ** lin(torch.FloatTensor([1])) -2 * x**2 + 5\n",
        "loss = criterion(pred, y)\n",
        "loss"
      ],
      "execution_count": 40,
      "outputs": [
        {
          "output_type": "execute_result",
          "data": {
            "text/plain": [
              "tensor(3.9996e+08, grad_fn=<MseLossBackward0>)"
            ]
          },
          "metadata": {},
          "execution_count": 40
        }
      ]
    },
    {
      "cell_type": "code",
      "metadata": {
        "id": "rv4_UfCt97Q_"
      },
      "source": [
        "loss.backward()"
      ],
      "execution_count": 41,
      "outputs": []
    },
    {
      "cell_type": "code",
      "metadata": {
        "id": "vBlbha5T97RA"
      },
      "source": [
        "optimizer.step()"
      ],
      "execution_count": 42,
      "outputs": []
    },
    {
      "cell_type": "code",
      "metadata": {
        "colab": {
          "base_uri": "https://localhost:8080/"
        },
        "id": "aAmG8rcy97RA",
        "outputId": "b7814692-ff65-419e-a271-b764a4d60216"
      },
      "source": [
        "pred"
      ],
      "execution_count": 43,
      "outputs": [
        {
          "output_type": "execute_result",
          "data": {
            "text/plain": [
              "tensor([-19994.9414], grad_fn=<AddBackward0>)"
            ]
          },
          "metadata": {},
          "execution_count": 43
        }
      ]
    },
    {
      "cell_type": "code",
      "metadata": {
        "colab": {
          "base_uri": "https://localhost:8080/"
        },
        "id": "8zO0qmLo97RA",
        "outputId": "06c6769e-5535-48e4-e9c8-976f94f0ac79"
      },
      "source": [
        "target = torch.FloatTensor([10])\n",
        "target"
      ],
      "execution_count": 44,
      "outputs": [
        {
          "output_type": "execute_result",
          "data": {
            "text/plain": [
              "tensor([10.])"
            ]
          },
          "metadata": {},
          "execution_count": 44
        }
      ]
    },
    {
      "cell_type": "code",
      "metadata": {
        "colab": {
          "base_uri": "https://localhost:8080/"
        },
        "id": "hr-Me-ZN97RA",
        "outputId": "e592a183-13db-4102-bf57-eedbbb352d73"
      },
      "source": [
        "lin.weight.grad"
      ],
      "execution_count": 45,
      "outputs": [
        {
          "output_type": "execute_result",
          "data": {
            "text/plain": [
              "tensor([[-10615.7695]])"
            ]
          },
          "metadata": {},
          "execution_count": 45
        }
      ]
    },
    {
      "cell_type": "code",
      "metadata": {
        "id": "sn9v3y8mDU4e"
      },
      "source": [
        ""
      ],
      "execution_count": null,
      "outputs": []
    }
  ]
}