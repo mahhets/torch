{
  "nbformat": 4,
  "nbformat_minor": 0,
  "metadata": {
    "kernelspec": {
      "display_name": "Python 3",
      "language": "python",
      "name": "python3"
    },
    "language_info": {
      "codemirror_mode": {
        "name": "ipython",
        "version": 3
      },
      "file_extension": ".py",
      "mimetype": "text/x-python",
      "name": "python",
      "nbconvert_exporter": "python",
      "pygments_lexer": "ipython3",
      "version": "3.7.4"
    },
    "colab": {
      "name": "PyTorch_1.ipynb",
      "provenance": []
    },
    "accelerator": "GPU"
  },
  "cells": [
    {
      "cell_type": "markdown",
      "metadata": {
        "id": "2OmoS565Rw9X"
      },
      "source": [
        "# “Фреймворк PyTorch для разработки искусственных нейронных сетей”"
      ]
    },
    {
      "cell_type": "markdown",
      "metadata": {
        "id": "BNr9EaDbRw9Y"
      },
      "source": [
        "![pytorch-logo.png](attachment:pytorch-logo.png)"
      ]
    },
    {
      "cell_type": "markdown",
      "metadata": {
        "id": "o3q-ET3SRw9Y"
      },
      "source": [
        "### План курса:\n",
        "1. Введение в PyTorch. Тензоры, автодифференцирование\n",
        "2. Feed-forward нейронные сети на Pytorch\n",
        "3. Dataloader, Dataset в Pytorch. Продвинутые методы оптимизации\n",
        "4. Сверточные сети в Pytorch. Классификация изображений. Предобученные сети в Pytorch\n",
        "5. Составная лосс-функция. Сегментация изображений.\n",
        "6. Сверточные сети применительно к текстовым задачам. Эмбеддинг-слои. Классификация новостей одномерными свертками.\n",
        "7. Рекурентные нейронные сети. GRU, LSTM на Pytorch. Задача NER.\n",
        "8. GAN на Pytorch.\n",
        "9. Bert и Transformer на Pytorch\n",
        "10. Face Detection and Emotion Recognition"
      ]
    },
    {
      "cell_type": "code",
      "metadata": {
        "colab": {
          "base_uri": "https://localhost:8080/"
        },
        "id": "slHPvXoSS4G-",
        "outputId": "edefcec9-ff21-45d7-9888-f7347e5281f5"
      },
      "source": [
        "!nvidia-smi"
      ],
      "execution_count": null,
      "outputs": [
        {
          "output_type": "stream",
          "name": "stdout",
          "text": [
            "Thu Nov 25 09:14:07 2021       \n",
            "+-----------------------------------------------------------------------------+\n",
            "| NVIDIA-SMI 495.44       Driver Version: 460.32.03    CUDA Version: 11.2     |\n",
            "|-------------------------------+----------------------+----------------------+\n",
            "| GPU  Name        Persistence-M| Bus-Id        Disp.A | Volatile Uncorr. ECC |\n",
            "| Fan  Temp  Perf  Pwr:Usage/Cap|         Memory-Usage | GPU-Util  Compute M. |\n",
            "|                               |                      |               MIG M. |\n",
            "|===============================+======================+======================|\n",
            "|   0  Tesla P100-PCIE...  Off  | 00000000:00:04.0 Off |                    0 |\n",
            "| N/A   38C    P0    28W / 250W |      0MiB / 16280MiB |      0%      Default |\n",
            "|                               |                      |                  N/A |\n",
            "+-------------------------------+----------------------+----------------------+\n",
            "                                                                               \n",
            "+-----------------------------------------------------------------------------+\n",
            "| Processes:                                                                  |\n",
            "|  GPU   GI   CI        PID   Type   Process name                  GPU Memory |\n",
            "|        ID   ID                                                   Usage      |\n",
            "|=============================================================================|\n",
            "|  No running processes found                                                 |\n",
            "+-----------------------------------------------------------------------------+\n"
          ]
        }
      ]
    },
    {
      "cell_type": "markdown",
      "metadata": {
        "id": "XThLR7ZGRw9Z"
      },
      "source": [
        "# PyTorch, вводное занятие"
      ]
    },
    {
      "cell_type": "markdown",
      "metadata": {
        "id": "adBQqGU7Rw9Z"
      },
      "source": [
        "### План занятия:\n",
        "* Tensorflow vs PyTorch\n",
        "* Установка\n",
        "* Понятие Тензора\n",
        "* Основы работы с тензорами\n",
        "* Принципы автодифференцирования\n",
        "* Градиент\n",
        "* Оптимизация функции градиентным спуском\n",
        "* Пара слов о CUDA и GPU "
      ]
    },
    {
      "cell_type": "markdown",
      "metadata": {
        "id": "Pa16XPE-Rw9Z"
      },
      "source": [
        "###  Tensorflow vs PyTorch:"
      ]
    },
    {
      "cell_type": "markdown",
      "metadata": {
        "id": "Jj_3UWZ_Rw9Z"
      },
      "source": [
        "![tensorflow.png](attachment:tensorflow.png)"
      ]
    },
    {
      "cell_type": "markdown",
      "metadata": {
        "id": "IsU2fbuORw9Z"
      },
      "source": [
        "* GPU и TPU\n",
        "* Отладка\n",
        "* Определение графа - верно для старых версий, в Октябре 2019 года добавили поддержку подобного стиля программирования "
      ]
    },
    {
      "cell_type": "markdown",
      "metadata": {
        "id": "xjoK4YGURw9Z"
      },
      "source": [
        "#### Различия:\n",
        "https://towardsdatascience.com/pytorch-vs-tensorflow-in-2020-fe237862fae1\n",
        "![Screenshot%20from%202020-09-25%2009-55-49.png](attachment:Screenshot%20from%202020-09-25%2009-55-49.png)"
      ]
    },
    {
      "cell_type": "markdown",
      "metadata": {
        "id": "hJqoon0VRw9a"
      },
      "source": [
        "### Важные источники"
      ]
    },
    {
      "cell_type": "markdown",
      "metadata": {
        "id": "cQXCNSETRw9a"
      },
      "source": [
        "* https://pytorch.org/tutorials/\n",
        "\n",
        "* https://discuss.pytorch.org/\n",
        "\n",
        "* https://stackoverflow.com/ :)"
      ]
    },
    {
      "cell_type": "markdown",
      "metadata": {
        "id": "l_0sPsCHRw9a"
      },
      "source": [
        "### Установка"
      ]
    },
    {
      "cell_type": "markdown",
      "metadata": {
        "id": "-Ieo2iOARw9a"
      },
      "source": [
        "### https://pytorch.org/"
      ]
    },
    {
      "cell_type": "code",
      "metadata": {
        "id": "dI0QPJ4-Rw9a",
        "colab": {
          "base_uri": "https://localhost:8080/"
        },
        "outputId": "19e1ed16-e1fb-4f76-e80e-73dc965b0eab"
      },
      "source": [
        "!pip install torch torchvision"
      ],
      "execution_count": 1,
      "outputs": [
        {
          "output_type": "stream",
          "name": "stdout",
          "text": [
            "Requirement already satisfied: torch in /usr/local/lib/python3.7/dist-packages (1.10.0+cu111)\n",
            "Requirement already satisfied: torchvision in /usr/local/lib/python3.7/dist-packages (0.11.1+cu111)\n",
            "Requirement already satisfied: typing-extensions in /usr/local/lib/python3.7/dist-packages (from torch) (3.10.0.2)\n",
            "Requirement already satisfied: numpy in /usr/local/lib/python3.7/dist-packages (from torchvision) (1.19.5)\n",
            "Requirement already satisfied: pillow!=8.3.0,>=5.3.0 in /usr/local/lib/python3.7/dist-packages (from torchvision) (7.1.2)\n"
          ]
        }
      ]
    },
    {
      "cell_type": "markdown",
      "metadata": {
        "id": "Bw3fZ_10Rw9c"
      },
      "source": [
        "### Подключение "
      ]
    },
    {
      "cell_type": "code",
      "metadata": {
        "id": "NHiFD2q8Rw9c"
      },
      "source": [
        "import torch\n",
        "import torchvision"
      ],
      "execution_count": 2,
      "outputs": []
    },
    {
      "cell_type": "markdown",
      "metadata": {
        "id": "04g4JZprRw9c"
      },
      "source": [
        "### Некоторые основы и пару слов о  numpy"
      ]
    },
    {
      "cell_type": "code",
      "metadata": {
        "id": "6bul1MxtRw9c"
      },
      "source": [
        "import numpy as np"
      ],
      "execution_count": 3,
      "outputs": []
    },
    {
      "cell_type": "markdown",
      "metadata": {
        "id": "TpRhTJWVRw9c"
      },
      "source": [
        "Pytorch позволяет делать многие вещи так же, как и numpy. Это означает, что вы можете получить значение тензора в любой момент времени. Но так же, обратите внимание на некоторые отличия. Полная таблица расхождений расположена здесь: \n",
        "* https://github.com/torch/torch7/wiki/Torch-for-Numpy-users"
      ]
    },
    {
      "cell_type": "code",
      "metadata": {
        "id": "vClTRKNTRw9d",
        "colab": {
          "base_uri": "https://localhost:8080/"
        },
        "outputId": "bdf42096-a849-4809-a75e-aedc9934d141"
      },
      "source": [
        "x = np.arange(9).reshape(3, 3)\n",
        "\n",
        "print(\"X :\\n%s\\n\" % x)\n",
        "print(\"X размеры : %s\\n\" % (x.shape,))\n",
        "print(\"X тип : %s\\n\" % (type(x)))\n",
        "# print(\"Добавим 10 :\\n%s\\n\" % (x + 10))\n",
        "# print(\"Среднее по строчке :\\n%s\\n\" % (x.mean(axis=-1)))\n",
        "# print(\"Среднее по столбцу :\\n%s\\n\" % (x.mean(axis=0)))"
      ],
      "execution_count": 4,
      "outputs": [
        {
          "output_type": "stream",
          "name": "stdout",
          "text": [
            "X :\n",
            "[[0 1 2]\n",
            " [3 4 5]\n",
            " [6 7 8]]\n",
            "\n",
            "X размеры : (3, 3)\n",
            "\n",
            "X тип : <class 'numpy.ndarray'>\n",
            "\n"
          ]
        }
      ]
    },
    {
      "cell_type": "markdown",
      "metadata": {
        "id": "jfRc5pblRw9d"
      },
      "source": [
        "##### PyTorch поддерживает разные типы тензоров:\n",
        "\n",
        "* HalfTensor: 16-bit float\n",
        "* FloatTensor: 32-bit float (torch.Tensor)\n",
        "* DoubleTensor: 64-bit float\n",
        "\n",
        "* ShortTensor: 16-bit int\n",
        "* IntTensor: 32-bit int\n",
        "* LongTensor: 64-bit int\n",
        "\n",
        "\n",
        "\n",
        "#####  Весь список:\n",
        "* https://pytorch.org/docs/stable/tensors.html"
      ]
    },
    {
      "cell_type": "markdown",
      "metadata": {
        "id": "aovIMCK1Rw9d"
      },
      "source": [
        "##### Функция для вывода данных о тензоре:"
      ]
    },
    {
      "cell_type": "code",
      "metadata": {
        "id": "SgAHrms7Rw9d"
      },
      "source": [
        "def print_tens_info(tensor):\n",
        "    print(\"X :\\n%s\\n\" % tensor)\n",
        "    print(\"X количество измерений:\\n%s\\n\" % tensor.dim())\n",
        "    print(\"X размеры : \",  tensor.size())\n",
        "    print(\"X тип : %s\\n\" % (tensor.type()))\n",
        "#     print(\"Добавим 10 :\\n%s\\n\" % (tensor + 10))\n",
        "#     print(\"Среднее по строчке :\\n%s\\n\" % (tensor.mean(axis=-1)))\n",
        "#     print(\"Среднее по столбцу :\\n%s\\n\" % (tensor.mean(axis=0)))\n",
        "    "
      ],
      "execution_count": 5,
      "outputs": []
    },
    {
      "cell_type": "code",
      "metadata": {
        "id": "KXoiHiUIRw9d"
      },
      "source": [
        "# y = np.arange(9).reshape(3, 3).astype(float)\n",
        "# x = torch.tensor(y)  \n",
        "# x = torch.DoubleTensor(3, 3, 3)\n",
        "x = torch.DoubleTensor([[1.0, 2.0],[2.0,3.0]])  "
      ],
      "execution_count": 11,
      "outputs": []
    },
    {
      "cell_type": "code",
      "metadata": {
        "id": "TbhNFb2SRw9d",
        "colab": {
          "base_uri": "https://localhost:8080/"
        },
        "outputId": "dcf61f60-74e4-47fd-9049-82f9caf330b9"
      },
      "source": [
        "print_tens_info(x)"
      ],
      "execution_count": 12,
      "outputs": [
        {
          "output_type": "stream",
          "name": "stdout",
          "text": [
            "X :\n",
            "tensor([[1., 2.],\n",
            "        [2., 3.]], dtype=torch.float64)\n",
            "\n",
            "X количество измерений:\n",
            "2\n",
            "\n",
            "X размеры :  torch.Size([2, 2])\n",
            "X тип : torch.DoubleTensor\n",
            "\n"
          ]
        }
      ]
    },
    {
      "cell_type": "code",
      "metadata": {
        "id": "h8r0FsQpRw9e",
        "colab": {
          "base_uri": "https://localhost:8080/"
        },
        "outputId": "7cfd96b4-c52e-40cc-e0e8-4baa8fa499a2"
      },
      "source": [
        "x / torch.LongTensor([3, 5])"
      ],
      "execution_count": 14,
      "outputs": [
        {
          "output_type": "execute_result",
          "data": {
            "text/plain": [
              "tensor([[0.3333, 0.4000],\n",
              "        [0.6667, 0.6000]], dtype=torch.float64)"
            ]
          },
          "metadata": {},
          "execution_count": 14
        }
      ]
    },
    {
      "cell_type": "code",
      "metadata": {
        "id": "GN30CJSJRw9e",
        "colab": {
          "base_uri": "https://localhost:8080/"
        },
        "outputId": "04bc63a1-bea6-4763-abd6-f8f0b4aff0ff"
      },
      "source": [
        "x + torch.LongTensor([3, 5]).view(-1, 1)"
      ],
      "execution_count": 18,
      "outputs": [
        {
          "output_type": "execute_result",
          "data": {
            "text/plain": [
              "tensor([[4., 5.],\n",
              "        [7., 8.]], dtype=torch.float64)"
            ]
          },
          "metadata": {},
          "execution_count": 18
        }
      ]
    },
    {
      "cell_type": "code",
      "metadata": {
        "scrolled": true,
        "id": "VxBnWdS8Rw9e",
        "colab": {
          "base_uri": "https://localhost:8080/"
        },
        "outputId": "ddaaa0e4-5ebf-4bae-a1cc-3d26c6f2ae16"
      },
      "source": [
        "print_tens_info(x)"
      ],
      "execution_count": 10,
      "outputs": [
        {
          "output_type": "stream",
          "name": "stdout",
          "text": [
            "X :\n",
            "tensor([[1., 2.],\n",
            "        [2., 3.]], dtype=torch.float64)\n",
            "\n",
            "X количество измерений:\n",
            "2\n",
            "\n",
            "X размеры :  torch.Size([2, 2])\n",
            "X тип : torch.DoubleTensor\n",
            "\n"
          ]
        }
      ]
    },
    {
      "cell_type": "code",
      "metadata": {
        "id": "EHcNn5ObRw9e"
      },
      "source": [
        "x = torch.arange(9).view(3,3) # reshape\n",
        "x = torch.arange(0,9).view(3,3).type(torch.float32)\n",
        "# y = np.arange(9).reshape(3, 3).astype(float)"
      ],
      "execution_count": 19,
      "outputs": []
    },
    {
      "cell_type": "code",
      "metadata": {
        "scrolled": true,
        "id": "uFtnQ5ypRw9e",
        "colab": {
          "base_uri": "https://localhost:8080/"
        },
        "outputId": "95c857ed-632c-4ca7-f958-011ea5c0a21e"
      },
      "source": [
        "print_tens_info(x)"
      ],
      "execution_count": 20,
      "outputs": [
        {
          "output_type": "stream",
          "name": "stdout",
          "text": [
            "X :\n",
            "tensor([[0., 1., 2.],\n",
            "        [3., 4., 5.],\n",
            "        [6., 7., 8.]])\n",
            "\n",
            "X количество измерений:\n",
            "2\n",
            "\n",
            "X размеры :  torch.Size([3, 3])\n",
            "X тип : torch.FloatTensor\n",
            "\n"
          ]
        }
      ]
    },
    {
      "cell_type": "markdown",
      "metadata": {
        "id": "Q-ekyOC3Rw9e"
      },
      "source": [
        "#####  Из numpy в tensor и обратно"
      ]
    },
    {
      "cell_type": "code",
      "metadata": {
        "scrolled": true,
        "id": "EEueawhtRw9e",
        "colab": {
          "base_uri": "https://localhost:8080/"
        },
        "outputId": "045a44b7-65ca-49ed-cbb3-f6e6454c9d4b"
      },
      "source": [
        "x = x.numpy()\n",
        "print(\"X :\\n%s\\n\" % x)\n",
        "print(\"X размеры : %s\\n\" % (x.shape,))\n",
        "print(\"X тип : %s\\n\" % (type(x)))\n",
        "# print(\"Добавим 10 :\\n%s\\n\" % (x + 10))\n",
        "# print(\"Среднее по строчке :\\n%s\\n\" % (x.mean(axis=-1)))\n",
        "# print(\"Среднее по столбцу :\\n%s\\n\" % (x.mean(axis=0)))"
      ],
      "execution_count": 21,
      "outputs": [
        {
          "output_type": "stream",
          "name": "stdout",
          "text": [
            "X :\n",
            "[[0. 1. 2.]\n",
            " [3. 4. 5.]\n",
            " [6. 7. 8.]]\n",
            "\n",
            "X размеры : (3, 3)\n",
            "\n",
            "X тип : <class 'numpy.ndarray'>\n",
            "\n"
          ]
        }
      ]
    },
    {
      "cell_type": "code",
      "metadata": {
        "id": "2BZyMALGRw9f",
        "outputId": "7c4cafea-7fb2-473d-c6f6-3c948c4ce4e6"
      },
      "source": [
        "x = torch.randn(3, 3)\n",
        "print_tens_info(x)"
      ],
      "execution_count": null,
      "outputs": [
        {
          "name": "stdout",
          "output_type": "stream",
          "text": [
            "X :\n",
            "tensor([[ 0.4300, -0.4931, -2.0721],\n",
            "        [-0.9319,  0.0303, -0.3277],\n",
            "        [ 0.1252, -0.7440,  0.4124]])\n",
            "\n",
            "X количество измерений:\n",
            "2\n",
            "\n",
            "X размеры :  torch.Size([3, 3])\n",
            "X тип : torch.FloatTensor\n",
            "\n"
          ]
        }
      ]
    },
    {
      "cell_type": "markdown",
      "metadata": {
        "id": "-YurBssDRw9f"
      },
      "source": [
        "#####  Некоторые отличия:"
      ]
    },
    {
      "cell_type": "markdown",
      "metadata": {
        "id": "EF3E_N7BRw9f"
      },
      "source": [
        "* ```x.astype('int64') -> x.type(torch.LongTensor)```\n",
        "* ``` np.concatenate ->\ttorch.cat ```\n",
        "* ``` np.multiply ->\ttorch.cmul ```\n",
        "* ``` np.copy(x) ->\tx:clone() ```\n"
      ]
    },
    {
      "cell_type": "markdown",
      "metadata": {
        "id": "-9L7ruX8Rw9f"
      },
      "source": [
        "### Градиент"
      ]
    },
    {
      "cell_type": "markdown",
      "metadata": {
        "id": "1-3lPwR_Rw9f"
      },
      "source": [
        "$$a = (b + c)*(c + 2) $$\n",
        "![Simple-graph-example-260x300.png](attachment:Simple-graph-example-260x300.png)"
      ]
    },
    {
      "cell_type": "code",
      "metadata": {
        "id": "hWtVtUurRw9f"
      },
      "source": [
        "# обертка над тензором, которая хранит в себе градиент при обучении\n",
        "from torch.autograd import Variable"
      ],
      "execution_count": 24,
      "outputs": []
    },
    {
      "cell_type": "code",
      "metadata": {
        "id": "1oug77f_Rw9f",
        "colab": {
          "base_uri": "https://localhost:8080/"
        },
        "outputId": "7afd9b9d-5920-44b6-94c2-3458451b1750"
      },
      "source": [
        "torch.ones(3)"
      ],
      "execution_count": 25,
      "outputs": [
        {
          "output_type": "execute_result",
          "data": {
            "text/plain": [
              "tensor([1., 1., 1.])"
            ]
          },
          "metadata": {},
          "execution_count": 25
        }
      ]
    },
    {
      "cell_type": "code",
      "metadata": {
        "id": "BCBinOmGRw9f"
      },
      "source": [
        "x = Variable(torch.ones(3), requires_grad = True)"
      ],
      "execution_count": 26,
      "outputs": []
    },
    {
      "cell_type": "code",
      "metadata": {
        "id": "t5CfDX5wRw9f",
        "colab": {
          "base_uri": "https://localhost:8080/"
        },
        "outputId": "a97421d2-bc88-41f4-b33a-1bb6d8198823"
      },
      "source": [
        "# Видим, что теперь в переменной х есть не только сам тензор, но и флаг сохранения градиента по тензору\n",
        "x"
      ],
      "execution_count": 28,
      "outputs": [
        {
          "output_type": "execute_result",
          "data": {
            "text/plain": [
              "tensor([1., 1., 1.], requires_grad=True)"
            ]
          },
          "metadata": {},
          "execution_count": 28
        }
      ]
    },
    {
      "cell_type": "markdown",
      "metadata": {
        "id": "0qqCAq_GRw9g"
      },
      "source": [
        "#### requires_grad \n",
        "Флаг, что необходимо автоматически вычислять градиент на тензоре при вызове функции .backward(). Если стоит False - градиент не нужен, обучение не происходит. \n",
        "Пример:"
      ]
    },
    {
      "cell_type": "code",
      "metadata": {
        "id": "IV_gZPOgRw9g",
        "colab": {
          "base_uri": "https://localhost:8080/"
        },
        "outputId": "40d54770-c591-48d5-c047-98334324cc2c"
      },
      "source": [
        "print_tens_info(x)"
      ],
      "execution_count": 29,
      "outputs": [
        {
          "output_type": "stream",
          "name": "stdout",
          "text": [
            "X :\n",
            "tensor([1., 1., 1.], requires_grad=True)\n",
            "\n",
            "X количество измерений:\n",
            "1\n",
            "\n",
            "X размеры :  torch.Size([3])\n",
            "X тип : torch.FloatTensor\n",
            "\n"
          ]
        }
      ]
    },
    {
      "cell_type": "code",
      "metadata": {
        "id": "u_-xG8asRw9g",
        "colab": {
          "base_uri": "https://localhost:8080/"
        },
        "outputId": "446b5929-e837-4fa7-d117-31bdba76428f"
      },
      "source": [
        "print(x.grad)"
      ],
      "execution_count": 30,
      "outputs": [
        {
          "output_type": "stream",
          "name": "stdout",
          "text": [
            "None\n"
          ]
        }
      ]
    },
    {
      "cell_type": "code",
      "metadata": {
        "id": "3fLAcdkwRw9g"
      },
      "source": [
        "z = (x * x) + 5.0 * x #задание - посчитать производную ручками"
      ],
      "execution_count": 31,
      "outputs": []
    },
    {
      "cell_type": "code",
      "metadata": {
        "id": "ruk38eobRw9g",
        "colab": {
          "base_uri": "https://localhost:8080/"
        },
        "outputId": "33be57a7-ee70-44bc-94de-4606e6df1ec0"
      },
      "source": [
        "z"
      ],
      "execution_count": 32,
      "outputs": [
        {
          "output_type": "execute_result",
          "data": {
            "text/plain": [
              "tensor([6., 6., 6.], grad_fn=<AddBackward0>)"
            ]
          },
          "metadata": {},
          "execution_count": 32
        }
      ]
    },
    {
      "cell_type": "code",
      "metadata": {
        "id": "y0uYUBBPRw9g",
        "colab": {
          "base_uri": "https://localhost:8080/"
        },
        "outputId": "69c67183-3e33-419d-9371-0577100084e2"
      },
      "source": [
        "print_tens_info(z)"
      ],
      "execution_count": 33,
      "outputs": [
        {
          "output_type": "stream",
          "name": "stdout",
          "text": [
            "X :\n",
            "tensor([6., 6., 6.], grad_fn=<AddBackward0>)\n",
            "\n",
            "X количество измерений:\n",
            "1\n",
            "\n",
            "X размеры :  torch.Size([3])\n",
            "X тип : torch.FloatTensor\n",
            "\n"
          ]
        }
      ]
    },
    {
      "cell_type": "code",
      "metadata": {
        "id": "UayElj_MRw9g"
      },
      "source": [
        "# рассчет градиента\n",
        "z.backward(torch.ones(3))"
      ],
      "execution_count": 34,
      "outputs": []
    },
    {
      "cell_type": "code",
      "metadata": {
        "id": "HNr1asFORw9g",
        "colab": {
          "base_uri": "https://localhost:8080/"
        },
        "outputId": "8c997f79-a850-4916-ef53-6fba920c63f7"
      },
      "source": [
        "print(x.grad)"
      ],
      "execution_count": 38,
      "outputs": [
        {
          "output_type": "stream",
          "name": "stdout",
          "text": [
            "tensor([14., 14., 14.])\n"
          ]
        }
      ]
    },
    {
      "cell_type": "code",
      "metadata": {
        "id": "1kTZ-jjaRw9h"
      },
      "source": [
        "y = x * x\n",
        "z = y + 5 * x\n",
        "\n",
        "z.backward(torch.ones(3))"
      ],
      "execution_count": 36,
      "outputs": []
    },
    {
      "cell_type": "code",
      "metadata": {
        "id": "rATo2n5VRw9h",
        "colab": {
          "base_uri": "https://localhost:8080/"
        },
        "outputId": "9a366d80-5561-4da4-8570-7ed50aee451b"
      },
      "source": [
        "y.grad"
      ],
      "execution_count": 37,
      "outputs": [
        {
          "output_type": "stream",
          "name": "stderr",
          "text": [
            "/usr/local/lib/python3.7/dist-packages/torch/_tensor.py:1013: UserWarning: The .grad attribute of a Tensor that is not a leaf Tensor is being accessed. Its .grad attribute won't be populated during autograd.backward(). If you indeed want the .grad field to be populated for a non-leaf Tensor, use .retain_grad() on the non-leaf Tensor. If you access the non-leaf Tensor by mistake, make sure you access the leaf Tensor instead. See github.com/pytorch/pytorch/pull/30531 for more informations. (Triggered internally at  aten/src/ATen/core/TensorBody.h:417.)\n",
            "  return self._grad\n"
          ]
        }
      ]
    },
    {
      "cell_type": "code",
      "metadata": {
        "id": "fdIyCeeURw9h",
        "colab": {
          "base_uri": "https://localhost:8080/"
        },
        "outputId": "8b489dd7-b06c-42b9-edf1-0120cf865a34"
      },
      "source": [
        "(x - 0.001 * x.grad)"
      ],
      "execution_count": 39,
      "outputs": [
        {
          "output_type": "execute_result",
          "data": {
            "text/plain": [
              "tensor([0.9860, 0.9860, 0.9860], grad_fn=<SubBackward0>)"
            ]
          },
          "metadata": {},
          "execution_count": 39
        }
      ]
    },
    {
      "cell_type": "markdown",
      "metadata": {
        "id": "rcUcCA-yRw9h"
      },
      "source": [
        "#### Подключаемые модули"
      ]
    },
    {
      "cell_type": "code",
      "metadata": {
        "id": "v61tRkYdRw9h"
      },
      "source": [
        "from torch import nn \n",
        "from torch import optim"
      ],
      "execution_count": 40,
      "outputs": []
    },
    {
      "cell_type": "markdown",
      "metadata": {
        "id": "1VK3FiW3Rw9h"
      },
      "source": [
        "* nn - формирование вычислительных графов для слоев нейронных сетей. TensorFlow: Keras.\n",
        "* optim - алгоритмы оптимизации (SGD, Adam и т.д.). TensorFlow: модуль optimizers"
      ]
    },
    {
      "cell_type": "code",
      "metadata": {
        "id": "iyQ0P858Rw9h"
      },
      "source": [
        "linear = nn.Linear(2, 2, bias=True)"
      ],
      "execution_count": 41,
      "outputs": []
    },
    {
      "cell_type": "code",
      "metadata": {
        "scrolled": true,
        "id": "uO5MV1yJRw9h",
        "colab": {
          "base_uri": "https://localhost:8080/"
        },
        "outputId": "c6d0bc0c-3516-4b14-bbee-79b80e57d830"
      },
      "source": [
        "print ('w: ', linear.weight)\n",
        "print ('b: ', linear.bias)"
      ],
      "execution_count": 42,
      "outputs": [
        {
          "output_type": "stream",
          "name": "stdout",
          "text": [
            "w:  Parameter containing:\n",
            "tensor([[0.6349, 0.4623],\n",
            "        [0.1449, 0.2322]], requires_grad=True)\n",
            "b:  Parameter containing:\n",
            "tensor([-0.7064, -0.2254], requires_grad=True)\n"
          ]
        }
      ]
    },
    {
      "cell_type": "code",
      "metadata": {
        "id": "qh_wzA8rRw9h"
      },
      "source": [
        "criterion = nn.MSELoss()"
      ],
      "execution_count": 43,
      "outputs": []
    },
    {
      "cell_type": "code",
      "metadata": {
        "id": "2OtQqgx_Rw9h",
        "colab": {
          "base_uri": "https://localhost:8080/"
        },
        "outputId": "aea9eb23-9fc6-4d11-b114-733cc216379f"
      },
      "source": [
        "params = [i for i in linear.parameters()]\n",
        "params"
      ],
      "execution_count": 44,
      "outputs": [
        {
          "output_type": "execute_result",
          "data": {
            "text/plain": [
              "[Parameter containing:\n",
              " tensor([[0.6349, 0.4623],\n",
              "         [0.1449, 0.2322]], requires_grad=True), Parameter containing:\n",
              " tensor([-0.7064, -0.2254], requires_grad=True)]"
            ]
          },
          "metadata": {},
          "execution_count": 44
        }
      ]
    },
    {
      "cell_type": "code",
      "metadata": {
        "id": "ZUFUOD_TRw9i"
      },
      "source": [
        "optimizer = torch.optim.SGD(params, lr=0.01)"
      ],
      "execution_count": 45,
      "outputs": []
    },
    {
      "cell_type": "code",
      "metadata": {
        "id": "WW9ZJDb5Rw9i"
      },
      "source": [
        "x = Variable(torch.randn(2), requires_grad = True)\n",
        "y = Variable(torch.randn(2), requires_grad = False)"
      ],
      "execution_count": 46,
      "outputs": []
    },
    {
      "cell_type": "code",
      "metadata": {
        "id": "wWwtntIWRw9i",
        "colab": {
          "base_uri": "https://localhost:8080/"
        },
        "outputId": "88b1d94a-30bd-44cd-95be-1911a193f9b0"
      },
      "source": [
        "x, y"
      ],
      "execution_count": 47,
      "outputs": [
        {
          "output_type": "execute_result",
          "data": {
            "text/plain": [
              "(tensor([0.2489, 1.0509], requires_grad=True), tensor([-0.0680,  0.7959]))"
            ]
          },
          "metadata": {},
          "execution_count": 47
        }
      ]
    },
    {
      "cell_type": "code",
      "metadata": {
        "scrolled": true,
        "id": "rLJGW_sURw9i",
        "colab": {
          "base_uri": "https://localhost:8080/"
        },
        "outputId": "3bdd9751-17f8-415d-e054-7ca085f9f7df"
      },
      "source": [
        "# пройтись по всем параметрам и занулить градиенты\n",
        "optimizer.zero_grad()\n",
        "# предсказание\n",
        "pred = linear(x)\n",
        "loss = criterion(pred, y)\n",
        "print('loss: ', loss.item())"
      ],
      "execution_count": 48,
      "outputs": [
        {
          "output_type": "stream",
          "name": "stdout",
          "text": [
            "loss:  0.274661123752594\n"
          ]
        }
      ]
    },
    {
      "cell_type": "code",
      "metadata": {
        "colab": {
          "base_uri": "https://localhost:8080/"
        },
        "id": "dKdMEGxP1wG1",
        "outputId": "3812b81f-290a-4cdc-ace9-873360b3902f"
      },
      "source": [
        "pred"
      ],
      "execution_count": 49,
      "outputs": [
        {
          "output_type": "execute_result",
          "data": {
            "text/plain": [
              "tensor([-0.0625,  0.0548], grad_fn=<AddBackward0>)"
            ]
          },
          "metadata": {},
          "execution_count": 49
        }
      ]
    },
    {
      "cell_type": "code",
      "metadata": {
        "id": "1rmq4b4RRw9i",
        "colab": {
          "base_uri": "https://localhost:8080/"
        },
        "outputId": "8d9dfe17-4f62-4a06-b898-1259c394c257"
      },
      "source": [
        "linear(x)"
      ],
      "execution_count": 50,
      "outputs": [
        {
          "output_type": "execute_result",
          "data": {
            "text/plain": [
              "tensor([-0.0625,  0.0548], grad_fn=<AddBackward0>)"
            ]
          },
          "metadata": {},
          "execution_count": 50
        }
      ]
    },
    {
      "cell_type": "code",
      "metadata": {
        "id": "JRWRgvAwRw9i",
        "colab": {
          "base_uri": "https://localhost:8080/"
        },
        "outputId": "e1f47688-035b-40bc-ad72-a2428195f48b"
      },
      "source": [
        "# что происходит под капотом\n",
        "torch.matmul(linear.weight, x) + linear.bias"
      ],
      "execution_count": 51,
      "outputs": [
        {
          "output_type": "execute_result",
          "data": {
            "text/plain": [
              "tensor([-0.0625,  0.0548], grad_fn=<AddBackward0>)"
            ]
          },
          "metadata": {},
          "execution_count": 51
        }
      ]
    },
    {
      "cell_type": "markdown",
      "metadata": {
        "id": "JWsj1Ghf3jV1"
      },
      "source": [
        "Посмотрим на значения градиентов:\n",
        "1. Нет градиентов\n",
        "2. Запускаем обратное распространение ошибки\n",
        "3. Есть градиенты))\n",
        "4. Запускаем шаг оптимизатора и градиенты прибавятся к значению весов"
      ]
    },
    {
      "cell_type": "code",
      "metadata": {
        "id": "50zmzL4LRw9i",
        "colab": {
          "base_uri": "https://localhost:8080/"
        },
        "outputId": "c51a75a9-91d5-4503-a762-d574c60e0bf0"
      },
      "source": [
        "print ('dL/dw: ', linear.weight.grad) \n",
        "print ('dL/db: ', linear.bias.grad)"
      ],
      "execution_count": 52,
      "outputs": [
        {
          "output_type": "stream",
          "name": "stdout",
          "text": [
            "dL/dw:  None\n",
            "dL/db:  None\n"
          ]
        }
      ]
    },
    {
      "cell_type": "code",
      "metadata": {
        "scrolled": true,
        "id": "Ee_2F-irRw9i"
      },
      "source": [
        "loss.backward()"
      ],
      "execution_count": 53,
      "outputs": []
    },
    {
      "cell_type": "code",
      "metadata": {
        "id": "BjqQZN7ARw9i",
        "colab": {
          "base_uri": "https://localhost:8080/"
        },
        "outputId": "ff6be8ad-ba74-4a6a-da0b-61c03a95a188"
      },
      "source": [
        "print ('dL/dw: ', linear.weight.grad) \n",
        "print ('dL/db: ', linear.bias.grad)"
      ],
      "execution_count": 54,
      "outputs": [
        {
          "output_type": "stream",
          "name": "stdout",
          "text": [
            "dL/dw:  tensor([[ 0.0014,  0.0058],\n",
            "        [-0.1845, -0.7789]])\n",
            "dL/db:  tensor([ 0.0056, -0.7411])\n"
          ]
        }
      ]
    },
    {
      "cell_type": "code",
      "metadata": {
        "id": "a-yXcRtbRw9j",
        "colab": {
          "base_uri": "https://localhost:8080/"
        },
        "outputId": "6b442862-f6ef-441b-d7b5-614be7155849"
      },
      "source": [
        "print ('w: ', linear.weight)\n",
        "print ('b: ', linear.bias)"
      ],
      "execution_count": 55,
      "outputs": [
        {
          "output_type": "stream",
          "name": "stdout",
          "text": [
            "w:  Parameter containing:\n",
            "tensor([[0.6349, 0.4623],\n",
            "        [0.1449, 0.2322]], requires_grad=True)\n",
            "b:  Parameter containing:\n",
            "tensor([-0.7064, -0.2254], requires_grad=True)\n"
          ]
        }
      ]
    },
    {
      "cell_type": "code",
      "metadata": {
        "id": "LXkTk4GfRw9j"
      },
      "source": [
        "optimizer.step()"
      ],
      "execution_count": 56,
      "outputs": []
    },
    {
      "cell_type": "code",
      "metadata": {
        "id": "khUHv3N5Rw9j",
        "colab": {
          "base_uri": "https://localhost:8080/"
        },
        "outputId": "24f485e7-76a3-48a8-9376-70729401b190"
      },
      "source": [
        "print ('w: ', linear.weight)\n",
        "print ('b: ', linear.bias)"
      ],
      "execution_count": 57,
      "outputs": [
        {
          "output_type": "stream",
          "name": "stdout",
          "text": [
            "w:  Parameter containing:\n",
            "tensor([[0.6349, 0.4623],\n",
            "        [0.1468, 0.2400]], requires_grad=True)\n",
            "b:  Parameter containing:\n",
            "tensor([-0.7064, -0.2180], requires_grad=True)\n"
          ]
        }
      ]
    },
    {
      "cell_type": "markdown",
      "metadata": {
        "id": "cmFX0m4vRw9j"
      },
      "source": [
        "![a0Rv7LQ_700b.jpg](attachment:a0Rv7LQ_700b.jpg)"
      ]
    },
    {
      "cell_type": "markdown",
      "metadata": {
        "id": "pE6-E_F-Rw9j"
      },
      "source": [
        "# Попрактикуемся с более привычными функциями"
      ]
    },
    {
      "cell_type": "code",
      "metadata": {
        "id": "8ttS8-nyRw9j"
      },
      "source": [
        "# функция "
      ],
      "execution_count": null,
      "outputs": []
    },
    {
      "cell_type": "markdown",
      "metadata": {
        "id": "QFMbJQZ2Rw9j"
      },
      "source": [
        "#### Подключение GPU "
      ]
    },
    {
      "cell_type": "code",
      "metadata": {
        "id": "CSQUx3xERw9j",
        "colab": {
          "base_uri": "https://localhost:8080/"
        },
        "outputId": "13919a81-a410-4e3c-86a8-c62c7abaa337"
      },
      "source": [
        "torch.cuda.is_available()"
      ],
      "execution_count": 58,
      "outputs": [
        {
          "output_type": "execute_result",
          "data": {
            "text/plain": [
              "True"
            ]
          },
          "metadata": {},
          "execution_count": 58
        }
      ]
    },
    {
      "cell_type": "code",
      "metadata": {
        "id": "wnHLOXvLRw9j",
        "colab": {
          "base_uri": "https://localhost:8080/"
        },
        "outputId": "a4cfe2f2-faa3-40e2-beb7-342ebfd92c6f"
      },
      "source": [
        "device = torch.device(\"cuda:0\" if torch.cuda.is_available() else \"cpu\")\n",
        "print(device)"
      ],
      "execution_count": 59,
      "outputs": [
        {
          "output_type": "stream",
          "name": "stdout",
          "text": [
            "cuda:0\n"
          ]
        }
      ]
    },
    {
      "cell_type": "code",
      "metadata": {
        "id": "2NSQrcyFRw9j",
        "colab": {
          "base_uri": "https://localhost:8080/"
        },
        "outputId": "c8c011fd-92fa-43b6-e657-2f210f53178d"
      },
      "source": [
        "net = torch.randn(10, 10, device=device)\n",
        "net"
      ],
      "execution_count": 62,
      "outputs": [
        {
          "output_type": "execute_result",
          "data": {
            "text/plain": [
              "tensor([[ 1.0759e+00,  1.1285e+00, -1.8267e+00, -3.4824e-01, -9.4037e-02,\n",
              "         -2.9011e+00,  1.1379e+00,  3.1322e-01,  1.8630e+00, -9.6024e-01],\n",
              "        [-1.8531e+00, -5.1831e-01, -7.4040e-01,  5.8935e-01,  5.1653e-01,\n",
              "          1.0478e+00,  7.0257e-01, -8.1010e-03,  1.6635e+00,  1.9484e+00],\n",
              "        [-3.7552e-01,  2.4557e-01, -3.6017e-01,  2.0456e+00,  1.3422e-01,\n",
              "          5.1737e-02, -7.0345e-01, -4.9862e-01,  1.4498e+00,  7.3732e-01],\n",
              "        [-4.7040e-01,  5.1058e-01,  8.6388e-01,  3.4736e-01, -5.5857e-01,\n",
              "         -1.1010e-01, -1.1103e+00, -3.9869e-01, -2.3591e+00,  5.2944e-01],\n",
              "        [ 2.0396e-01,  2.3635e-02, -1.6463e+00,  3.5445e-01,  6.0225e-03,\n",
              "          8.7473e-01, -1.0168e+00,  4.5247e-01, -1.6922e-01,  2.1080e-01],\n",
              "        [-1.0143e-01,  3.3923e-01,  7.6741e-01, -4.1693e-01,  1.4080e+00,\n",
              "          2.3596e-01,  1.3497e+00, -2.1631e-01,  1.5986e+00, -1.0480e+00],\n",
              "        [-1.4173e+00,  1.8483e+00,  1.9419e+00, -1.3724e+00, -1.0497e+00,\n",
              "          2.9175e-01,  2.1729e+00, -1.0605e-01, -9.7972e-02, -9.3683e-02],\n",
              "        [-2.6641e-02, -5.1652e-01, -5.3504e-01,  3.3293e-01,  4.2130e-01,\n",
              "          1.4345e+00, -1.6361e+00, -5.7489e-01,  5.9210e-01,  1.0686e+00],\n",
              "        [-1.1016e+00, -2.2566e-01,  9.1052e-01,  1.8219e-01, -1.1051e+00,\n",
              "         -9.4108e-01, -1.5100e-01,  2.5041e-01,  1.0150e+00,  2.6124e-03],\n",
              "        [-8.4350e-01, -9.2201e-01,  1.6877e+00,  6.1771e-02, -8.3796e-01,\n",
              "          8.8774e-01, -1.5644e-01,  7.4596e-01, -1.2755e-01, -9.9439e-01]],\n",
              "       device='cuda:0')"
            ]
          },
          "metadata": {},
          "execution_count": 62
        }
      ]
    },
    {
      "cell_type": "code",
      "metadata": {
        "id": "IVxG2qK2Rw9k",
        "colab": {
          "base_uri": "https://localhost:8080/"
        },
        "outputId": "98b75e7c-a826-4e7e-f614-81fa53de082c"
      },
      "source": [
        "net.cuda() # положить объект на ближайшую доступную видеокарту\n",
        "#net.cpu()"
      ],
      "execution_count": 63,
      "outputs": [
        {
          "output_type": "execute_result",
          "data": {
            "text/plain": [
              "tensor([[ 1.0759e+00,  1.1285e+00, -1.8267e+00, -3.4824e-01, -9.4037e-02,\n",
              "         -2.9011e+00,  1.1379e+00,  3.1322e-01,  1.8630e+00, -9.6024e-01],\n",
              "        [-1.8531e+00, -5.1831e-01, -7.4040e-01,  5.8935e-01,  5.1653e-01,\n",
              "          1.0478e+00,  7.0257e-01, -8.1010e-03,  1.6635e+00,  1.9484e+00],\n",
              "        [-3.7552e-01,  2.4557e-01, -3.6017e-01,  2.0456e+00,  1.3422e-01,\n",
              "          5.1737e-02, -7.0345e-01, -4.9862e-01,  1.4498e+00,  7.3732e-01],\n",
              "        [-4.7040e-01,  5.1058e-01,  8.6388e-01,  3.4736e-01, -5.5857e-01,\n",
              "         -1.1010e-01, -1.1103e+00, -3.9869e-01, -2.3591e+00,  5.2944e-01],\n",
              "        [ 2.0396e-01,  2.3635e-02, -1.6463e+00,  3.5445e-01,  6.0225e-03,\n",
              "          8.7473e-01, -1.0168e+00,  4.5247e-01, -1.6922e-01,  2.1080e-01],\n",
              "        [-1.0143e-01,  3.3923e-01,  7.6741e-01, -4.1693e-01,  1.4080e+00,\n",
              "          2.3596e-01,  1.3497e+00, -2.1631e-01,  1.5986e+00, -1.0480e+00],\n",
              "        [-1.4173e+00,  1.8483e+00,  1.9419e+00, -1.3724e+00, -1.0497e+00,\n",
              "          2.9175e-01,  2.1729e+00, -1.0605e-01, -9.7972e-02, -9.3683e-02],\n",
              "        [-2.6641e-02, -5.1652e-01, -5.3504e-01,  3.3293e-01,  4.2130e-01,\n",
              "          1.4345e+00, -1.6361e+00, -5.7489e-01,  5.9210e-01,  1.0686e+00],\n",
              "        [-1.1016e+00, -2.2566e-01,  9.1052e-01,  1.8219e-01, -1.1051e+00,\n",
              "         -9.4108e-01, -1.5100e-01,  2.5041e-01,  1.0150e+00,  2.6124e-03],\n",
              "        [-8.4350e-01, -9.2201e-01,  1.6877e+00,  6.1771e-02, -8.3796e-01,\n",
              "          8.8774e-01, -1.5644e-01,  7.4596e-01, -1.2755e-01, -9.9439e-01]],\n",
              "       device='cuda:0')"
            ]
          },
          "metadata": {},
          "execution_count": 63
        }
      ]
    },
    {
      "cell_type": "code",
      "metadata": {
        "id": "JdH2OxKWRw9k",
        "colab": {
          "base_uri": "https://localhost:8080/"
        },
        "outputId": "50421777-9024-47d8-9dca-8c5e19205b85"
      },
      "source": [
        "net.to(device) # позволяет выбрать девайс и положить на него"
      ],
      "execution_count": 64,
      "outputs": [
        {
          "output_type": "execute_result",
          "data": {
            "text/plain": [
              "tensor([[ 1.0759e+00,  1.1285e+00, -1.8267e+00, -3.4824e-01, -9.4037e-02,\n",
              "         -2.9011e+00,  1.1379e+00,  3.1322e-01,  1.8630e+00, -9.6024e-01],\n",
              "        [-1.8531e+00, -5.1831e-01, -7.4040e-01,  5.8935e-01,  5.1653e-01,\n",
              "          1.0478e+00,  7.0257e-01, -8.1010e-03,  1.6635e+00,  1.9484e+00],\n",
              "        [-3.7552e-01,  2.4557e-01, -3.6017e-01,  2.0456e+00,  1.3422e-01,\n",
              "          5.1737e-02, -7.0345e-01, -4.9862e-01,  1.4498e+00,  7.3732e-01],\n",
              "        [-4.7040e-01,  5.1058e-01,  8.6388e-01,  3.4736e-01, -5.5857e-01,\n",
              "         -1.1010e-01, -1.1103e+00, -3.9869e-01, -2.3591e+00,  5.2944e-01],\n",
              "        [ 2.0396e-01,  2.3635e-02, -1.6463e+00,  3.5445e-01,  6.0225e-03,\n",
              "          8.7473e-01, -1.0168e+00,  4.5247e-01, -1.6922e-01,  2.1080e-01],\n",
              "        [-1.0143e-01,  3.3923e-01,  7.6741e-01, -4.1693e-01,  1.4080e+00,\n",
              "          2.3596e-01,  1.3497e+00, -2.1631e-01,  1.5986e+00, -1.0480e+00],\n",
              "        [-1.4173e+00,  1.8483e+00,  1.9419e+00, -1.3724e+00, -1.0497e+00,\n",
              "          2.9175e-01,  2.1729e+00, -1.0605e-01, -9.7972e-02, -9.3683e-02],\n",
              "        [-2.6641e-02, -5.1652e-01, -5.3504e-01,  3.3293e-01,  4.2130e-01,\n",
              "          1.4345e+00, -1.6361e+00, -5.7489e-01,  5.9210e-01,  1.0686e+00],\n",
              "        [-1.1016e+00, -2.2566e-01,  9.1052e-01,  1.8219e-01, -1.1051e+00,\n",
              "         -9.4108e-01, -1.5100e-01,  2.5041e-01,  1.0150e+00,  2.6124e-03],\n",
              "        [-8.4350e-01, -9.2201e-01,  1.6877e+00,  6.1771e-02, -8.3796e-01,\n",
              "          8.8774e-01, -1.5644e-01,  7.4596e-01, -1.2755e-01, -9.9439e-01]],\n",
              "       device='cuda:0')"
            ]
          },
          "metadata": {},
          "execution_count": 64
        }
      ]
    },
    {
      "cell_type": "code",
      "metadata": {
        "id": "eg3ZitlG5xST"
      },
      "source": [
        ""
      ],
      "execution_count": null,
      "outputs": []
    }
  ]
}